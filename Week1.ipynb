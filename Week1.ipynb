{
  "nbformat": 4,
  "nbformat_minor": 0,
  "metadata": {
    "colab": {
      "name": "Untitled0.ipynb",
      "provenance": [],
      "authorship_tag": "ABX9TyP/ZZV8cmvBdqUwrBz3ge8V",
      "include_colab_link": true
    },
    "kernelspec": {
      "name": "python3",
      "display_name": "Python 3"
    },
    "accelerator": "GPU"
  },
  "cells": [
    {
      "cell_type": "markdown",
      "metadata": {
        "id": "view-in-github",
        "colab_type": "text"
      },
      "source": [
        "<a href=\"https://colab.research.google.com/github/HsimWong/KGE-NLP/blob/master/Week1.ipynb\" target=\"_parent\"><img src=\"https://colab.research.google.com/assets/colab-badge.svg\" alt=\"Open In Colab\"/></a>"
      ]
    },
    {
      "cell_type": "code",
      "metadata": {
        "id": "XZl6DyXPyYWx",
        "colab_type": "code",
        "colab": {}
      },
      "source": [
        "! pip3 install tensorflow>=2"
      ],
      "execution_count": 0,
      "outputs": []
    },
    {
      "cell_type": "code",
      "metadata": {
        "id": "dXgVC6LkuLE_",
        "colab_type": "code",
        "outputId": "2be9ce66-3647-424e-bb52-77c9e637df8b",
        "colab": {
          "base_uri": "https://localhost:8080/",
          "height": 67
        }
      },
      "source": [
        "import tensorflow as tf\n",
        "import numpy as np\n",
        "import tensorflow.keras as keras\n",
        "'''\n",
        "Defining model\n",
        "'''\n",
        "model = keras.Sequential([keras.layers.Dense(units=1, input_shape=[1])])\n",
        "model.compile(optimizer='sgd', loss='mean_squared_error')\n",
        "\n",
        "'''Definition and declaration of input\n",
        "and lable'''\n",
        "\n",
        "xs = np.array([-1.0, 0, 1, 2, 3, 4], dtype=float)\n",
        "ys = np.array([-3, -1, 1, 3, 5, 7.0], dtype=float)\n",
        "# Traning model\n",
        "model.fit(xs, ys, epochs=1)"
      ],
      "execution_count": 0,
      "outputs": [
        {
          "output_type": "stream",
          "text": [
            "Train on 6 samples\n",
            "\r6/6 [==============================] - 0s 12ms/sample - loss: 43.9460\n"
          ],
          "name": "stdout"
        },
        {
          "output_type": "execute_result",
          "data": {
            "text/plain": [
              "<tensorflow.python.keras.callbacks.History at 0x7f8b404b64e0>"
            ]
          },
          "metadata": {
            "tags": []
          },
          "execution_count": 14
        }
      ]
    },
    {
      "cell_type": "markdown",
      "metadata": {
        "id": "fWVqV3VizXLH",
        "colab_type": "text"
      },
      "source": [
        "## Identifiers representation:\n",
        "- Dense: Fully connection layer. Checking out at <a href=https://www.quora.com/In-TensorFlow-what-is-a-dense-and-a-dropout-layer>Here</a>"
      ]
    },
    {
      "cell_type": "code",
      "metadata": {
        "id": "-gTjOUkpuRsd",
        "colab_type": "code",
        "outputId": "01ee0f76-1308-4076-ebca-4bae24bb5124",
        "colab": {
          "base_uri": "https://localhost:8080/",
          "height": 34
        }
      },
      "source": [
        "print(model.predict([10.0]))"
      ],
      "execution_count": 0,
      "outputs": [
        {
          "output_type": "stream",
          "text": [
            "[[-6.4679804]]\n"
          ],
          "name": "stdout"
        }
      ]
    }
  ]
}